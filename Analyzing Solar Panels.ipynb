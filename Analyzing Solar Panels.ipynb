{
 "cells": [
  {
   "cell_type": "code",
   "execution_count": 1,
   "id": "0110a7dc",
   "metadata": {},
   "outputs": [],
   "source": [
    "import pandas as pd\n",
    "import seaborn as sns \n",
    "import numpy as np\n",
    "import matplotlib.pyplot as plt\n",
    "from sklearn.model_selection import train_test_split\n",
    "from sklearn.preprocessing import StandardScaler\n",
    "from sklearn.naive_bayes import GaussianNB\n",
    "from sklearn import metrics\n",
    "from sklearn.metrics import confusion_matrix\n",
    "from sklearn.metrics import accuracy_score, precision_score, recall_score, f1_score\n",
    "from sklearn.preprocessing import LabelEncoder\n",
    "from sklearn.discriminant_analysis import LinearDiscriminantAnalysis\n",
    "from sklearn.discriminant_analysis import LinearDiscriminantAnalysis as LDA\n",
    "from sklearn.datasets import load_iris\n",
    "from sklearn.tree import DecisionTreeClassifier\n",
    "from sklearn.linear_model import LinearRegression\n",
    "from sklearn.model_selection import train_test_split\n",
    "from sklearn.linear_model import LogisticRegression\n",
    "from sklearn.neighbors import KNeighborsClassifier\n",
    "from sklearn.neural_network import MLPRegressor\n",
    "from sklearn.metrics import ConfusionMatrixDisplay"
   ]
  },
  {
   "cell_type": "code",
   "execution_count": 2,
   "id": "aa0fe7ce",
   "metadata": {},
   "outputs": [],
   "source": [
    "mydata = pd.read_csv('AswanData_weatherdata.csv')"
   ]
  },
  {
   "cell_type": "code",
   "execution_count": 3,
   "id": "f840aea0",
   "metadata": {},
   "outputs": [
    {
     "data": {
      "text/html": [
       "<div>\n",
       "<style scoped>\n",
       "    .dataframe tbody tr th:only-of-type {\n",
       "        vertical-align: middle;\n",
       "    }\n",
       "\n",
       "    .dataframe tbody tr th {\n",
       "        vertical-align: top;\n",
       "    }\n",
       "\n",
       "    .dataframe thead th {\n",
       "        text-align: right;\n",
       "    }\n",
       "</style>\n",
       "<table border=\"1\" class=\"dataframe\">\n",
       "  <thead>\n",
       "    <tr style=\"text-align: right;\">\n",
       "      <th></th>\n",
       "      <th>Unnamed: 0</th>\n",
       "      <th>Date</th>\n",
       "      <th>AvgTemperture</th>\n",
       "      <th>AverageDew(point via humidity)</th>\n",
       "      <th>Humidity</th>\n",
       "      <th>Wind</th>\n",
       "      <th>Pressure</th>\n",
       "      <th>Solar(PV)</th>\n",
       "    </tr>\n",
       "  </thead>\n",
       "  <tbody>\n",
       "    <tr>\n",
       "      <th>0</th>\n",
       "      <td>0</td>\n",
       "      <td>4/1/2022</td>\n",
       "      <td>87.9</td>\n",
       "      <td>31.3</td>\n",
       "      <td>13.4</td>\n",
       "      <td>5.7</td>\n",
       "      <td>29.2</td>\n",
       "      <td>19.010857</td>\n",
       "    </tr>\n",
       "    <tr>\n",
       "      <th>1</th>\n",
       "      <td>2</td>\n",
       "      <td>4/3/2022</td>\n",
       "      <td>90.2</td>\n",
       "      <td>34.0</td>\n",
       "      <td>14.2</td>\n",
       "      <td>6.6</td>\n",
       "      <td>29.1</td>\n",
       "      <td>16.885714</td>\n",
       "    </tr>\n",
       "    <tr>\n",
       "      <th>2</th>\n",
       "      <td>3</td>\n",
       "      <td>4/4/2022</td>\n",
       "      <td>93.2</td>\n",
       "      <td>31.4</td>\n",
       "      <td>11.8</td>\n",
       "      <td>8.8</td>\n",
       "      <td>29.1</td>\n",
       "      <td>19.627429</td>\n",
       "    </tr>\n",
       "    <tr>\n",
       "      <th>3</th>\n",
       "      <td>4</td>\n",
       "      <td>4/5/2022</td>\n",
       "      <td>92.5</td>\n",
       "      <td>24.9</td>\n",
       "      <td>9.4</td>\n",
       "      <td>8.0</td>\n",
       "      <td>29.1</td>\n",
       "      <td>18.929429</td>\n",
       "    </tr>\n",
       "    <tr>\n",
       "      <th>4</th>\n",
       "      <td>5</td>\n",
       "      <td>4/6/2022</td>\n",
       "      <td>91.2</td>\n",
       "      <td>18.9</td>\n",
       "      <td>7.8</td>\n",
       "      <td>9.4</td>\n",
       "      <td>29.2</td>\n",
       "      <td>18.934000</td>\n",
       "    </tr>\n",
       "    <tr>\n",
       "      <th>5</th>\n",
       "      <td>6</td>\n",
       "      <td>4/7/2022</td>\n",
       "      <td>94.0</td>\n",
       "      <td>26.3</td>\n",
       "      <td>9.4</td>\n",
       "      <td>11.0</td>\n",
       "      <td>29.2</td>\n",
       "      <td>17.435143</td>\n",
       "    </tr>\n",
       "    <tr>\n",
       "      <th>6</th>\n",
       "      <td>7</td>\n",
       "      <td>4/8/2022</td>\n",
       "      <td>92.3</td>\n",
       "      <td>24.9</td>\n",
       "      <td>10.0</td>\n",
       "      <td>6.5</td>\n",
       "      <td>29.1</td>\n",
       "      <td>16.717714</td>\n",
       "    </tr>\n",
       "    <tr>\n",
       "      <th>7</th>\n",
       "      <td>8</td>\n",
       "      <td>4/9/2022</td>\n",
       "      <td>92.5</td>\n",
       "      <td>30.4</td>\n",
       "      <td>11.9</td>\n",
       "      <td>8.9</td>\n",
       "      <td>29.1</td>\n",
       "      <td>17.146286</td>\n",
       "    </tr>\n",
       "    <tr>\n",
       "      <th>8</th>\n",
       "      <td>9</td>\n",
       "      <td>4/10/2022</td>\n",
       "      <td>90.6</td>\n",
       "      <td>32.0</td>\n",
       "      <td>13.3</td>\n",
       "      <td>8.5</td>\n",
       "      <td>29.1</td>\n",
       "      <td>15.938857</td>\n",
       "    </tr>\n",
       "    <tr>\n",
       "      <th>9</th>\n",
       "      <td>10</td>\n",
       "      <td>4/11/2022</td>\n",
       "      <td>89.9</td>\n",
       "      <td>30.4</td>\n",
       "      <td>12.3</td>\n",
       "      <td>7.9</td>\n",
       "      <td>29.1</td>\n",
       "      <td>16.939143</td>\n",
       "    </tr>\n",
       "  </tbody>\n",
       "</table>\n",
       "</div>"
      ],
      "text/plain": [
       "   Unnamed: 0       Date  AvgTemperture  AverageDew(point via humidity)  \\\n",
       "0           0   4/1/2022           87.9                            31.3   \n",
       "1           2   4/3/2022           90.2                            34.0   \n",
       "2           3   4/4/2022           93.2                            31.4   \n",
       "3           4   4/5/2022           92.5                            24.9   \n",
       "4           5   4/6/2022           91.2                            18.9   \n",
       "5           6   4/7/2022           94.0                            26.3   \n",
       "6           7   4/8/2022           92.3                            24.9   \n",
       "7           8   4/9/2022           92.5                            30.4   \n",
       "8           9  4/10/2022           90.6                            32.0   \n",
       "9          10  4/11/2022           89.9                            30.4   \n",
       "\n",
       "   Humidity  Wind  Pressure  Solar(PV)  \n",
       "0      13.4   5.7      29.2  19.010857  \n",
       "1      14.2   6.6      29.1  16.885714  \n",
       "2      11.8   8.8      29.1  19.627429  \n",
       "3       9.4   8.0      29.1  18.929429  \n",
       "4       7.8   9.4      29.2  18.934000  \n",
       "5       9.4  11.0      29.2  17.435143  \n",
       "6      10.0   6.5      29.1  16.717714  \n",
       "7      11.9   8.9      29.1  17.146286  \n",
       "8      13.3   8.5      29.1  15.938857  \n",
       "9      12.3   7.9      29.1  16.939143  "
      ]
     },
     "execution_count": 3,
     "metadata": {},
     "output_type": "execute_result"
    }
   ],
   "source": [
    "mydata.head(10)"
   ]
  },
  {
   "cell_type": "code",
   "execution_count": 4,
   "id": "8a4cf466",
   "metadata": {},
   "outputs": [
    {
     "data": {
      "text/html": [
       "<div>\n",
       "<style scoped>\n",
       "    .dataframe tbody tr th:only-of-type {\n",
       "        vertical-align: middle;\n",
       "    }\n",
       "\n",
       "    .dataframe tbody tr th {\n",
       "        vertical-align: top;\n",
       "    }\n",
       "\n",
       "    .dataframe thead th {\n",
       "        text-align: right;\n",
       "    }\n",
       "</style>\n",
       "<table border=\"1\" class=\"dataframe\">\n",
       "  <thead>\n",
       "    <tr style=\"text-align: right;\">\n",
       "      <th></th>\n",
       "      <th>Unnamed: 0</th>\n",
       "      <th>Date</th>\n",
       "      <th>AvgTemperture</th>\n",
       "      <th>AverageDew(point via humidity)</th>\n",
       "      <th>Humidity</th>\n",
       "      <th>Wind</th>\n",
       "      <th>Pressure</th>\n",
       "      <th>Solar(PV)</th>\n",
       "    </tr>\n",
       "  </thead>\n",
       "  <tbody>\n",
       "    <tr>\n",
       "      <th>388</th>\n",
       "      <td>412</td>\n",
       "      <td>4/21/2021</td>\n",
       "      <td>85.3</td>\n",
       "      <td>37.8</td>\n",
       "      <td>19.2</td>\n",
       "      <td>8.0</td>\n",
       "      <td>29.1</td>\n",
       "      <td>32.446571</td>\n",
       "    </tr>\n",
       "    <tr>\n",
       "      <th>389</th>\n",
       "      <td>413</td>\n",
       "      <td>4/22/2021</td>\n",
       "      <td>86.5</td>\n",
       "      <td>36.1</td>\n",
       "      <td>18.3</td>\n",
       "      <td>8.6</td>\n",
       "      <td>29.1</td>\n",
       "      <td>33.736571</td>\n",
       "    </tr>\n",
       "    <tr>\n",
       "      <th>390</th>\n",
       "      <td>414</td>\n",
       "      <td>4/23/2021</td>\n",
       "      <td>86.1</td>\n",
       "      <td>30.9</td>\n",
       "      <td>14.3</td>\n",
       "      <td>7.8</td>\n",
       "      <td>29.1</td>\n",
       "      <td>30.905143</td>\n",
       "    </tr>\n",
       "    <tr>\n",
       "      <th>391</th>\n",
       "      <td>415</td>\n",
       "      <td>4/24/2021</td>\n",
       "      <td>79.0</td>\n",
       "      <td>38.6</td>\n",
       "      <td>26.6</td>\n",
       "      <td>8.2</td>\n",
       "      <td>29.1</td>\n",
       "      <td>33.850857</td>\n",
       "    </tr>\n",
       "    <tr>\n",
       "      <th>392</th>\n",
       "      <td>416</td>\n",
       "      <td>4/25/2021</td>\n",
       "      <td>83.3</td>\n",
       "      <td>39.4</td>\n",
       "      <td>21.8</td>\n",
       "      <td>12.7</td>\n",
       "      <td>29.1</td>\n",
       "      <td>33.194286</td>\n",
       "    </tr>\n",
       "    <tr>\n",
       "      <th>393</th>\n",
       "      <td>417</td>\n",
       "      <td>4/26/2021</td>\n",
       "      <td>78.3</td>\n",
       "      <td>40.1</td>\n",
       "      <td>26.8</td>\n",
       "      <td>7.3</td>\n",
       "      <td>29.2</td>\n",
       "      <td>34.996286</td>\n",
       "    </tr>\n",
       "    <tr>\n",
       "      <th>394</th>\n",
       "      <td>418</td>\n",
       "      <td>4/27/2021</td>\n",
       "      <td>75.2</td>\n",
       "      <td>32.3</td>\n",
       "      <td>17.6</td>\n",
       "      <td>6.6</td>\n",
       "      <td>29.2</td>\n",
       "      <td>37.427429</td>\n",
       "    </tr>\n",
       "    <tr>\n",
       "      <th>395</th>\n",
       "      <td>419</td>\n",
       "      <td>4/28/2021</td>\n",
       "      <td>86.6</td>\n",
       "      <td>37.0</td>\n",
       "      <td>21.4</td>\n",
       "      <td>16.9</td>\n",
       "      <td>29.0</td>\n",
       "      <td>33.623429</td>\n",
       "    </tr>\n",
       "    <tr>\n",
       "      <th>396</th>\n",
       "      <td>420</td>\n",
       "      <td>4/29/2021</td>\n",
       "      <td>86.1</td>\n",
       "      <td>35.1</td>\n",
       "      <td>17.1</td>\n",
       "      <td>14.5</td>\n",
       "      <td>29.1</td>\n",
       "      <td>34.010286</td>\n",
       "    </tr>\n",
       "    <tr>\n",
       "      <th>397</th>\n",
       "      <td>421</td>\n",
       "      <td>4/30/2021</td>\n",
       "      <td>81.9</td>\n",
       "      <td>25.3</td>\n",
       "      <td>14.1</td>\n",
       "      <td>12.7</td>\n",
       "      <td>29.2</td>\n",
       "      <td>35.110000</td>\n",
       "    </tr>\n",
       "  </tbody>\n",
       "</table>\n",
       "</div>"
      ],
      "text/plain": [
       "     Unnamed: 0       Date  AvgTemperture  AverageDew(point via humidity)  \\\n",
       "388         412  4/21/2021           85.3                            37.8   \n",
       "389         413  4/22/2021           86.5                            36.1   \n",
       "390         414  4/23/2021           86.1                            30.9   \n",
       "391         415  4/24/2021           79.0                            38.6   \n",
       "392         416  4/25/2021           83.3                            39.4   \n",
       "393         417  4/26/2021           78.3                            40.1   \n",
       "394         418  4/27/2021           75.2                            32.3   \n",
       "395         419  4/28/2021           86.6                            37.0   \n",
       "396         420  4/29/2021           86.1                            35.1   \n",
       "397         421  4/30/2021           81.9                            25.3   \n",
       "\n",
       "     Humidity  Wind  Pressure  Solar(PV)  \n",
       "388      19.2   8.0      29.1  32.446571  \n",
       "389      18.3   8.6      29.1  33.736571  \n",
       "390      14.3   7.8      29.1  30.905143  \n",
       "391      26.6   8.2      29.1  33.850857  \n",
       "392      21.8  12.7      29.1  33.194286  \n",
       "393      26.8   7.3      29.2  34.996286  \n",
       "394      17.6   6.6      29.2  37.427429  \n",
       "395      21.4  16.9      29.0  33.623429  \n",
       "396      17.1  14.5      29.1  34.010286  \n",
       "397      14.1  12.7      29.2  35.110000  "
      ]
     },
     "execution_count": 4,
     "metadata": {},
     "output_type": "execute_result"
    }
   ],
   "source": [
    "mydata.tail(10)"
   ]
  },
  {
   "cell_type": "code",
   "execution_count": 5,
   "id": "41c14983",
   "metadata": {},
   "outputs": [
    {
     "data": {
      "text/html": [
       "<div>\n",
       "<style scoped>\n",
       "    .dataframe tbody tr th:only-of-type {\n",
       "        vertical-align: middle;\n",
       "    }\n",
       "\n",
       "    .dataframe tbody tr th {\n",
       "        vertical-align: top;\n",
       "    }\n",
       "\n",
       "    .dataframe thead th {\n",
       "        text-align: right;\n",
       "    }\n",
       "</style>\n",
       "<table border=\"1\" class=\"dataframe\">\n",
       "  <thead>\n",
       "    <tr style=\"text-align: right;\">\n",
       "      <th></th>\n",
       "      <th>Unnamed: 0</th>\n",
       "      <th>Date</th>\n",
       "      <th>AvgTemperture</th>\n",
       "      <th>AverageDew(point via humidity)</th>\n",
       "      <th>Humidity</th>\n",
       "      <th>Wind</th>\n",
       "      <th>Pressure</th>\n",
       "      <th>Solar(PV)</th>\n",
       "    </tr>\n",
       "  </thead>\n",
       "  <tbody>\n",
       "    <tr>\n",
       "      <th>123</th>\n",
       "      <td>130</td>\n",
       "      <td>1/14/2022</td>\n",
       "      <td>61.3</td>\n",
       "      <td>33.8</td>\n",
       "      <td>36.2</td>\n",
       "      <td>8.3</td>\n",
       "      <td>29.3</td>\n",
       "      <td>14.325429</td>\n",
       "    </tr>\n",
       "    <tr>\n",
       "      <th>40</th>\n",
       "      <td>42</td>\n",
       "      <td>4/14/2022</td>\n",
       "      <td>78.9</td>\n",
       "      <td>24.9</td>\n",
       "      <td>16.4</td>\n",
       "      <td>8.1</td>\n",
       "      <td>29.1</td>\n",
       "      <td>19.553714</td>\n",
       "    </tr>\n",
       "    <tr>\n",
       "      <th>164</th>\n",
       "      <td>177</td>\n",
       "      <td>12/31/2021</td>\n",
       "      <td>66.7</td>\n",
       "      <td>37.1</td>\n",
       "      <td>35.1</td>\n",
       "      <td>13.1</td>\n",
       "      <td>29.3</td>\n",
       "      <td>30.112000</td>\n",
       "    </tr>\n",
       "    <tr>\n",
       "      <th>59</th>\n",
       "      <td>61</td>\n",
       "      <td>3/4/2022</td>\n",
       "      <td>67.2</td>\n",
       "      <td>29.5</td>\n",
       "      <td>26.1</td>\n",
       "      <td>10.3</td>\n",
       "      <td>29.3</td>\n",
       "      <td>23.185143</td>\n",
       "    </tr>\n",
       "    <tr>\n",
       "      <th>199</th>\n",
       "      <td>216</td>\n",
       "      <td>10/9/2021</td>\n",
       "      <td>89.6</td>\n",
       "      <td>46.4</td>\n",
       "      <td>23.2</td>\n",
       "      <td>12.1</td>\n",
       "      <td>29.1</td>\n",
       "      <td>21.040857</td>\n",
       "    </tr>\n",
       "    <tr>\n",
       "      <th>270</th>\n",
       "      <td>287</td>\n",
       "      <td>8/19/2021</td>\n",
       "      <td>92.7</td>\n",
       "      <td>44.2</td>\n",
       "      <td>19.5</td>\n",
       "      <td>11.1</td>\n",
       "      <td>29.0</td>\n",
       "      <td>19.789143</td>\n",
       "    </tr>\n",
       "    <tr>\n",
       "      <th>310</th>\n",
       "      <td>329</td>\n",
       "      <td>7/30/2021</td>\n",
       "      <td>95.9</td>\n",
       "      <td>42.3</td>\n",
       "      <td>16.4</td>\n",
       "      <td>11.5</td>\n",
       "      <td>29.0</td>\n",
       "      <td>25.984571</td>\n",
       "    </tr>\n",
       "    <tr>\n",
       "      <th>22</th>\n",
       "      <td>23</td>\n",
       "      <td>4/24/2022</td>\n",
       "      <td>84.2</td>\n",
       "      <td>21.4</td>\n",
       "      <td>10.1</td>\n",
       "      <td>4.6</td>\n",
       "      <td>29.0</td>\n",
       "      <td>20.663143</td>\n",
       "    </tr>\n",
       "    <tr>\n",
       "      <th>340</th>\n",
       "      <td>362</td>\n",
       "      <td>5/2/2021</td>\n",
       "      <td>91.6</td>\n",
       "      <td>34.4</td>\n",
       "      <td>13.5</td>\n",
       "      <td>8.5</td>\n",
       "      <td>29.1</td>\n",
       "      <td>35.938857</td>\n",
       "    </tr>\n",
       "    <tr>\n",
       "      <th>66</th>\n",
       "      <td>69</td>\n",
       "      <td>3/12/2022</td>\n",
       "      <td>61.4</td>\n",
       "      <td>27.3</td>\n",
       "      <td>28.9</td>\n",
       "      <td>11.2</td>\n",
       "      <td>29.3</td>\n",
       "      <td>30.080857</td>\n",
       "    </tr>\n",
       "    <tr>\n",
       "      <th>34</th>\n",
       "      <td>36</td>\n",
       "      <td>4/8/2022</td>\n",
       "      <td>92.3</td>\n",
       "      <td>24.9</td>\n",
       "      <td>10.0</td>\n",
       "      <td>6.5</td>\n",
       "      <td>29.1</td>\n",
       "      <td>16.717714</td>\n",
       "    </tr>\n",
       "    <tr>\n",
       "      <th>282</th>\n",
       "      <td>299</td>\n",
       "      <td>8/31/2021</td>\n",
       "      <td>95.4</td>\n",
       "      <td>49.0</td>\n",
       "      <td>22.2</td>\n",
       "      <td>13.1</td>\n",
       "      <td>29.0</td>\n",
       "      <td>17.348857</td>\n",
       "    </tr>\n",
       "    <tr>\n",
       "      <th>42</th>\n",
       "      <td>44</td>\n",
       "      <td>4/16/2022</td>\n",
       "      <td>86.9</td>\n",
       "      <td>23.5</td>\n",
       "      <td>10.6</td>\n",
       "      <td>6.3</td>\n",
       "      <td>29.1</td>\n",
       "      <td>21.012857</td>\n",
       "    </tr>\n",
       "    <tr>\n",
       "      <th>70</th>\n",
       "      <td>73</td>\n",
       "      <td>3/16/2022</td>\n",
       "      <td>60.5</td>\n",
       "      <td>24.0</td>\n",
       "      <td>26.3</td>\n",
       "      <td>10.1</td>\n",
       "      <td>29.4</td>\n",
       "      <td>24.126571</td>\n",
       "    </tr>\n",
       "    <tr>\n",
       "      <th>368</th>\n",
       "      <td>391</td>\n",
       "      <td>5/31/2021</td>\n",
       "      <td>85.0</td>\n",
       "      <td>22.3</td>\n",
       "      <td>12.6</td>\n",
       "      <td>11.1</td>\n",
       "      <td>29.2</td>\n",
       "      <td>33.608857</td>\n",
       "    </tr>\n",
       "  </tbody>\n",
       "</table>\n",
       "</div>"
      ],
      "text/plain": [
       "     Unnamed: 0        Date  AvgTemperture  AverageDew(point via humidity)  \\\n",
       "123         130   1/14/2022           61.3                            33.8   \n",
       "40           42   4/14/2022           78.9                            24.9   \n",
       "164         177  12/31/2021           66.7                            37.1   \n",
       "59           61    3/4/2022           67.2                            29.5   \n",
       "199         216   10/9/2021           89.6                            46.4   \n",
       "270         287   8/19/2021           92.7                            44.2   \n",
       "310         329   7/30/2021           95.9                            42.3   \n",
       "22           23   4/24/2022           84.2                            21.4   \n",
       "340         362    5/2/2021           91.6                            34.4   \n",
       "66           69   3/12/2022           61.4                            27.3   \n",
       "34           36    4/8/2022           92.3                            24.9   \n",
       "282         299   8/31/2021           95.4                            49.0   \n",
       "42           44   4/16/2022           86.9                            23.5   \n",
       "70           73   3/16/2022           60.5                            24.0   \n",
       "368         391   5/31/2021           85.0                            22.3   \n",
       "\n",
       "     Humidity  Wind  Pressure  Solar(PV)  \n",
       "123      36.2   8.3      29.3  14.325429  \n",
       "40       16.4   8.1      29.1  19.553714  \n",
       "164      35.1  13.1      29.3  30.112000  \n",
       "59       26.1  10.3      29.3  23.185143  \n",
       "199      23.2  12.1      29.1  21.040857  \n",
       "270      19.5  11.1      29.0  19.789143  \n",
       "310      16.4  11.5      29.0  25.984571  \n",
       "22       10.1   4.6      29.0  20.663143  \n",
       "340      13.5   8.5      29.1  35.938857  \n",
       "66       28.9  11.2      29.3  30.080857  \n",
       "34       10.0   6.5      29.1  16.717714  \n",
       "282      22.2  13.1      29.0  17.348857  \n",
       "42       10.6   6.3      29.1  21.012857  \n",
       "70       26.3  10.1      29.4  24.126571  \n",
       "368      12.6  11.1      29.2  33.608857  "
      ]
     },
     "execution_count": 5,
     "metadata": {},
     "output_type": "execute_result"
    }
   ],
   "source": [
    "mydata.sample(15)"
   ]
  },
  {
   "cell_type": "code",
   "execution_count": 6,
   "id": "0cb95f7d",
   "metadata": {},
   "outputs": [
    {
     "data": {
      "text/plain": [
       "<bound method DataFrame.info of      Unnamed: 0       Date  AvgTemperture  AverageDew(point via humidity)  \\\n",
       "0             0   4/1/2022           87.9                            31.3   \n",
       "1             2   4/3/2022           90.2                            34.0   \n",
       "2             3   4/4/2022           93.2                            31.4   \n",
       "3             4   4/5/2022           92.5                            24.9   \n",
       "4             5   4/6/2022           91.2                            18.9   \n",
       "..          ...        ...            ...                             ...   \n",
       "393         417  4/26/2021           78.3                            40.1   \n",
       "394         418  4/27/2021           75.2                            32.3   \n",
       "395         419  4/28/2021           86.6                            37.0   \n",
       "396         420  4/29/2021           86.1                            35.1   \n",
       "397         421  4/30/2021           81.9                            25.3   \n",
       "\n",
       "     Humidity  Wind  Pressure  Solar(PV)  \n",
       "0        13.4   5.7      29.2  19.010857  \n",
       "1        14.2   6.6      29.1  16.885714  \n",
       "2        11.8   8.8      29.1  19.627429  \n",
       "3         9.4   8.0      29.1  18.929429  \n",
       "4         7.8   9.4      29.2  18.934000  \n",
       "..        ...   ...       ...        ...  \n",
       "393      26.8   7.3      29.2  34.996286  \n",
       "394      17.6   6.6      29.2  37.427429  \n",
       "395      21.4  16.9      29.0  33.623429  \n",
       "396      17.1  14.5      29.1  34.010286  \n",
       "397      14.1  12.7      29.2  35.110000  \n",
       "\n",
       "[398 rows x 8 columns]>"
      ]
     },
     "execution_count": 6,
     "metadata": {},
     "output_type": "execute_result"
    }
   ],
   "source": [
    "mydata.info"
   ]
  },
  {
   "cell_type": "code",
   "execution_count": 7,
   "id": "8f33ad2a",
   "metadata": {},
   "outputs": [
    {
     "data": {
      "text/plain": [
       "Unnamed: 0                          int64\n",
       "Date                               object\n",
       "AvgTemperture                     float64\n",
       "AverageDew(point via humidity)    float64\n",
       "Humidity                          float64\n",
       "Wind                              float64\n",
       "Pressure                          float64\n",
       "Solar(PV)                         float64\n",
       "dtype: object"
      ]
     },
     "execution_count": 7,
     "metadata": {},
     "output_type": "execute_result"
    }
   ],
   "source": [
    "mydata.dtypes"
   ]
  },
  {
   "cell_type": "code",
   "execution_count": 9,
   "id": "f8b4165a",
   "metadata": {},
   "outputs": [
    {
     "data": {
      "text/plain": [
       "(398, 8)"
      ]
     },
     "execution_count": 9,
     "metadata": {},
     "output_type": "execute_result"
    }
   ],
   "source": [
    "mydata.shape"
   ]
  },
  {
   "cell_type": "code",
   "execution_count": 13,
   "id": "32edf63e",
   "metadata": {},
   "outputs": [
    {
     "data": {
      "image/png": "[encoded data removed]",
      "text/plain": [
       "<Figure size 640x480 with 1 Axes>"
      ]
     },
     "metadata": {},
     "output_type": "display_data"
    }
   ],
   "source": [
    "#Scatter Plot (males)\n",
    "\n",
    "mydata5 = mydata.iloc[:5]\n",
    "x = mydata5['Date']\n",
    "y = mydata5['AvgTemperture']\n",
    "plt.scatter(x, y)\n",
    "plt.xlabel('Date')\n",
    "plt.ylabel('Temp')\n",
    "plt.title('Scatter Plot')\n",
    "plt.show()"
   ]
  },
  {
   "cell_type": "code",
   "execution_count": 14,
   "id": "e397b65f",
   "metadata": {},
   "outputs": [
    {
     "data": {
      "image/png": "[encoded data removed]",
      "text/plain": [
       "<Figure size 640x480 with 2 Axes>"
      ]
     },
     "metadata": {},
     "output_type": "display_data"
    }
   ],
   "source": [
    "matrix = mydata.corr()\n",
    "sns.heatmap(matrix , cmap='coolwarm')\n",
    "plt.title('Heatmap of Solar panels')\n",
    "plt.show()"
   ]
  },
  {
   "cell_type": "code",
   "execution_count": 15,
   "id": "f491198b",
   "metadata": {},
   "outputs": [
    {
     "data": {
      "text/plain": [
       "Index(['Unnamed: 0', 'Date', 'AvgTemperture', 'AverageDew(point via humidity)',\n",
       "       'Humidity', 'Wind', 'Pressure', 'Solar(PV)'],\n",
       "      dtype='object')"
      ]
     },
     "execution_count": 15,
     "metadata": {},
     "output_type": "execute_result"
    }
   ],
   "source": [
    "mydata.columns"
   ]
  },
  {
   "cell_type": "code",
   "execution_count": 16,
   "id": "23ca6f85",
   "metadata": {},
   "outputs": [
    {
     "data": {
      "text/plain": [
       "Unnamed: 0                        0\n",
       "Date                              0\n",
       "AvgTemperture                     0\n",
       "AverageDew(point via humidity)    0\n",
       "Humidity                          0\n",
       "Wind                              0\n",
       "Pressure                          0\n",
       "Solar(PV)                         0\n",
       "dtype: int64"
      ]
     },
     "execution_count": 16,
     "metadata": {},
     "output_type": "execute_result"
    }
   ],
   "source": [
    "#Checking for Null Values\n",
    "\n",
    "mydata.isnull().sum()"
   ]
  },
  {
   "cell_type": "code",
   "execution_count": 17,
   "id": "4fc46c6f",
   "metadata": {},
   "outputs": [
    {
     "data": {
      "text/plain": [
       "Unnamed: 0                        False\n",
       "Date                              False\n",
       "AvgTemperture                     False\n",
       "AverageDew(point via humidity)    False\n",
       "Humidity                          False\n",
       "Wind                              False\n",
       "Pressure                          False\n",
       "Solar(PV)                         False\n",
       "dtype: bool"
      ]
     },
     "execution_count": 17,
     "metadata": {},
     "output_type": "execute_result"
    }
   ],
   "source": [
    "#Checking for not a number values - axis = 0\n",
    "\n",
    "mydata.isna().any(axis=0)"
   ]
  },
  {
   "cell_type": "code",
   "execution_count": 18,
   "id": "8d54911c",
   "metadata": {},
   "outputs": [
    {
     "data": {
      "text/plain": [
       "0      False\n",
       "1      False\n",
       "2      False\n",
       "3      False\n",
       "4      False\n",
       "       ...  \n",
       "393    False\n",
       "394    False\n",
       "395    False\n",
       "396    False\n",
       "397    False\n",
       "Length: 398, dtype: bool"
      ]
     },
     "execution_count": 18,
     "metadata": {},
     "output_type": "execute_result"
    }
   ],
   "source": [
    "#Checking for not a number values - axis = 1\n",
    "\n",
    "mydata.isna().any(axis=1)"
   ]
  },
  {
   "cell_type": "code",
   "execution_count": 19,
   "id": "6250977f",
   "metadata": {},
   "outputs": [
    {
     "data": {
      "text/html": [
       "<div>\n",
       "<style scoped>\n",
       "    .dataframe tbody tr th:only-of-type {\n",
       "        vertical-align: middle;\n",
       "    }\n",
       "\n",
       "    .dataframe tbody tr th {\n",
       "        vertical-align: top;\n",
       "    }\n",
       "\n",
       "    .dataframe thead th {\n",
       "        text-align: right;\n",
       "    }\n",
       "</style>\n",
       "<table border=\"1\" class=\"dataframe\">\n",
       "  <thead>\n",
       "    <tr style=\"text-align: right;\">\n",
       "      <th></th>\n",
       "      <th>Unnamed: 0</th>\n",
       "      <th>Date</th>\n",
       "      <th>AvgTemperture</th>\n",
       "      <th>AverageDew(point via humidity)</th>\n",
       "      <th>Humidity</th>\n",
       "      <th>Wind</th>\n",
       "      <th>Pressure</th>\n",
       "      <th>Solar(PV)</th>\n",
       "    </tr>\n",
       "  </thead>\n",
       "  <tbody>\n",
       "  </tbody>\n",
       "</table>\n",
       "</div>"
      ],
      "text/plain": [
       "Empty DataFrame\n",
       "Columns: [Unnamed: 0, Date, AvgTemperture, AverageDew(point via humidity), Humidity, Wind, Pressure, Solar(PV)]\n",
       "Index: []"
      ]
     },
     "execution_count": 19,
     "metadata": {},
     "output_type": "execute_result"
    }
   ],
   "source": [
    "#Checking for duplicated values\n",
    "\n",
    "mydata[mydata.duplicated()]"
   ]
  },
  {
   "cell_type": "code",
   "execution_count": 21,
   "id": "248fe982",
   "metadata": {},
   "outputs": [
    {
     "data": {
      "text/plain": [
       "28"
      ]
     },
     "execution_count": 21,
     "metadata": {},
     "output_type": "execute_result"
    }
   ],
   "source": [
    "#Number of duplicated rows in model column \n",
    "\n",
    "mydata.duplicated('Date').sum()"
   ]
  },
  {
   "cell_type": "code",
   "execution_count": 22,
   "id": "c553a85f",
   "metadata": {},
   "outputs": [],
   "source": [
    "#Dropping the rows that contain duplicated values\n",
    "\n",
    "mydata.drop_duplicates(subset=['Date'], inplace=True)"
   ]
  },
  {
   "cell_type": "code",
   "execution_count": 23,
   "id": "258891b2",
   "metadata": {},
   "outputs": [
    {
     "data": {
      "text/plain": [
       "0"
      ]
     },
     "execution_count": 23,
     "metadata": {},
     "output_type": "execute_result"
    }
   ],
   "source": [
    "mydata.duplicated('Date').sum()"
   ]
  },
  {
   "cell_type": "code",
   "execution_count": 25,
   "id": "8d298cb5",
   "metadata": {},
   "outputs": [
    {
     "data": {
      "image/png": "[encoded data removed]",
      "text/plain": [
       "<Figure size 640x480 with 1 Axes>"
      ]
     },
     "metadata": {},
     "output_type": "display_data"
    }
   ],
   "source": [
    "#Boxplot\n",
    "\n",
    "sns.boxplot(x=mydata[\"AvgTemperture\"])\n",
    "plt.show() "
   ]
  },
  {
   "cell_type": "code",
   "execution_count": 26,
   "id": "6bf48743",
   "metadata": {},
   "outputs": [
    {
     "data": {
      "image/png": "[encoded data removed]",
      "text/plain": [
       "<Figure size 640x480 with 1 Axes>"
      ]
     },
     "metadata": {},
     "output_type": "display_data"
    }
   ],
   "source": [
    "#Boxplot\n",
    "\n",
    "sns.boxplot(x=mydata[\"AverageDew(point via humidity)\"])\n",
    "plt.show()"
   ]
  },
  {
   "cell_type": "code",
   "execution_count": 27,
   "id": "ff5c2f1c",
   "metadata": {},
   "outputs": [
    {
     "data": {
      "image/png": "[encoded data removed]",
      "text/plain": [
       "<Figure size 640x480 with 1 Axes>"
      ]
     },
     "metadata": {},
     "output_type": "display_data"
    }
   ],
   "source": [
    "#Boxplot\n",
    "\n",
    "sns.boxplot(x=mydata['Pressure'])\n",
    "plt.show()"
   ]
  },
  {
   "cell_type": "code",
   "execution_count": 28,
   "id": "fa65f42b",
   "metadata": {},
   "outputs": [
    {
     "data": {
      "text/plain": [
       "Text(0, 0.5, 'Number')"
      ]
     },
     "execution_count": 28,
     "metadata": {},
     "output_type": "execute_result"
    },
    {
     "data": {
      "image/png": "[encoded data removed]",
      "text/plain": [
       "<Figure size 640x480 with 1 Axes>"
      ]
     },
     "metadata": {},
     "output_type": "display_data"
    }
   ],
   "source": [
    "#Histogram\n",
    "\n",
    "sns.countplot(data=mydata , x='Solar(PV)')\n",
    "plt.title('Histogram')\n",
    "plt.xlabel('PV')\n",
    "plt.ylabel('Number')"
   ]
  },
  {
   "cell_type": "code",
   "execution_count": 29,
   "id": "565168c5",
   "metadata": {},
   "outputs": [
    {
     "name": "stderr",
     "output_type": "stream",
     "text": [
      "/var/folders/pb/0_h9v7n92911806r472ls_kc0000gn/T/ipykernel_3394/4263788547.py:1: FutureWarning: Dropping of nuisance columns in DataFrame reductions (with 'numeric_only=None') is deprecated; in a future version this will raise TypeError.  Select only valid columns before calling the reduction.\n",
      "  mydata.mean()\n"
     ]
    },
    {
     "data": {
      "text/plain": [
       "Unnamed: 0                        224.151351\n",
       "AvgTemperture                      81.405676\n",
       "AverageDew(point via humidity)     37.460811\n",
       "Humidity                           23.753784\n",
       "Wind                               10.314865\n",
       "Pressure                           29.190135\n",
       "Solar(PV)                          24.800943\n",
       "dtype: float64"
      ]
     },
     "execution_count": 29,
     "metadata": {},
     "output_type": "execute_result"
    }
   ],
   "source": [
    "mydata.mean()"
   ]
  },
  {
   "cell_type": "code",
   "execution_count": 30,
   "id": "9f91c678",
   "metadata": {},
   "outputs": [
    {
     "name": "stderr",
     "output_type": "stream",
     "text": [
      "/var/folders/pb/0_h9v7n92911806r472ls_kc0000gn/T/ipykernel_3394/1215635467.py:1: FutureWarning: Dropping of nuisance columns in DataFrame reductions (with 'numeric_only=None') is deprecated; in a future version this will raise TypeError.  Select only valid columns before calling the reduction.\n",
      "  mydata.var()\n"
     ]
    },
    {
     "data": {
      "text/plain": [
       "Unnamed: 0                        13877.901150\n",
       "AvgTemperture                       194.916743\n",
       "AverageDew(point via humidity)       76.550682\n",
       "Humidity                             92.956205\n",
       "Wind                                  6.024575\n",
       "Pressure                              0.020153\n",
       "Solar(PV)                            57.734326\n",
       "dtype: float64"
      ]
     },
     "execution_count": 30,
     "metadata": {},
     "output_type": "execute_result"
    }
   ],
   "source": [
    "mydata.var()"
   ]
  },
  {
   "cell_type": "code",
   "execution_count": 31,
   "id": "4a5f695c",
   "metadata": {},
   "outputs": [
    {
     "name": "stderr",
     "output_type": "stream",
     "text": [
      "/var/folders/pb/0_h9v7n92911806r472ls_kc0000gn/T/ipykernel_3394/4159344101.py:1: FutureWarning: Dropping of nuisance columns in DataFrame reductions (with 'numeric_only=None') is deprecated; in a future version this will raise TypeError.  Select only valid columns before calling the reduction.\n",
      "  mydata.std()\n"
     ]
    },
    {
     "data": {
      "text/plain": [
       "Unnamed: 0                        117.804504\n",
       "AvgTemperture                      13.961259\n",
       "AverageDew(point via humidity)      8.749325\n",
       "Humidity                            9.641380\n",
       "Wind                                2.454501\n",
       "Pressure                            0.141962\n",
       "Solar(PV)                           7.598311\n",
       "dtype: float64"
      ]
     },
     "execution_count": 31,
     "metadata": {},
     "output_type": "execute_result"
    }
   ],
   "source": [
    "mydata.std()"
   ]
  },
  {
   "cell_type": "code",
   "execution_count": 32,
   "id": "d0c97011",
   "metadata": {},
   "outputs": [
    {
     "name": "stdout",
     "output_type": "stream",
     "text": [
      "                                  Unnamed: 0  AvgTemperture  \\\n",
      "Unnamed: 0                      13877.901150     843.141415   \n",
      "AvgTemperture                     843.141415     194.916743   \n",
      "AverageDew(point via humidity)    436.984267      64.519938   \n",
      "Humidity                         -339.257214     -99.393423   \n",
      "Wind                               97.092324       6.119590   \n",
      "Pressure                           -6.158665      -1.568081   \n",
      "Solar(PV)                         457.134274       6.609464   \n",
      "\n",
      "                                AverageDew(point via humidity)    Humidity  \\\n",
      "Unnamed: 0                                          436.984267 -339.257214   \n",
      "AvgTemperture                                        64.519938  -99.393423   \n",
      "AverageDew(point via humidity)                       76.550682   12.601463   \n",
      "Humidity                                             12.601463   92.956205   \n",
      "Wind                                                  6.515869    0.301393   \n",
      "Pressure                                             -0.463057    0.855329   \n",
      "Solar(PV)                                            -9.547511  -13.157439   \n",
      "\n",
      "                                     Wind  Pressure   Solar(PV)  \n",
      "Unnamed: 0                      97.092324 -6.158665  457.134274  \n",
      "AvgTemperture                    6.119590 -1.568081    6.609464  \n",
      "AverageDew(point via humidity)   6.515869 -0.463057   -9.547511  \n",
      "Humidity                         0.301393  0.855329  -13.157439  \n",
      "Wind                             6.024575 -0.013932    2.511134  \n",
      "Pressure                        -0.013932  0.020153    0.008532  \n",
      "Solar(PV)                        2.511134  0.008532   57.734326  \n"
     ]
    }
   ],
   "source": [
    "covariance = mydata.cov()\n",
    "print(covariance)"
   ]
  },
  {
   "cell_type": "code",
   "execution_count": 33,
   "id": "775279fb",
   "metadata": {},
   "outputs": [
    {
     "name": "stdout",
     "output_type": "stream",
     "text": [
      "                                Unnamed: 0  AvgTemperture  \\\n",
      "Unnamed: 0                        1.000000       0.512642   \n",
      "AvgTemperture                     0.512642       1.000000   \n",
      "AverageDew(point via humidity)    0.423964       0.528196   \n",
      "Humidity                         -0.298695      -0.738404   \n",
      "Wind                              0.335784       0.178581   \n",
      "Pressure                         -0.368259      -0.791176   \n",
      "Solar(PV)                         0.510699       0.062305   \n",
      "\n",
      "                                AverageDew(point via humidity)  Humidity  \\\n",
      "Unnamed: 0                                            0.423964 -0.298695   \n",
      "AvgTemperture                                         0.528196 -0.738404   \n",
      "AverageDew(point via humidity)                        1.000000  0.149385   \n",
      "Humidity                                              0.149385  1.000000   \n",
      "Wind                                                  0.303413  0.012736   \n",
      "Pressure                                             -0.372811  0.624918   \n",
      "Solar(PV)                                            -0.143615 -0.179604   \n",
      "\n",
      "                                    Wind  Pressure  Solar(PV)  \n",
      "Unnamed: 0                      0.335784 -0.368259   0.510699  \n",
      "AvgTemperture                   0.178581 -0.791176   0.062305  \n",
      "AverageDew(point via humidity)  0.303413 -0.372811  -0.143615  \n",
      "Humidity                        0.012736  0.624918  -0.179604  \n",
      "Wind                            1.000000 -0.039982   0.134645  \n",
      "Pressure                       -0.039982  1.000000   0.007909  \n",
      "Solar(PV)                       0.134645  0.007909   1.000000  \n"
     ]
    }
   ],
   "source": [
    "correlation = mydata.corr()\n",
    "print(correlation)"
   ]
  },
  {
   "cell_type": "code",
   "execution_count": 51,
   "id": "d303655e",
   "metadata": {},
   "outputs": [
    {
     "name": "stdout",
     "output_type": "stream",
     "text": [
      "Accuracy: 0.05405405405405406\n"
     ]
    },
    {
     "data": {
      "image/png": "[encoded data removed]",
      "text/plain": [
       "<Figure size 640x480 with 2 Axes>"
      ]
     },
     "metadata": {},
     "output_type": "display_data"
    },
    {
     "name": "stdout",
     "output_type": "stream",
     "text": [
      "Precision score:  0.01462324393358876\n",
      "Recall score:  0.045155993431855494\n",
      "F1 score:  0.021735221825965927\n"
     ]
    },
    {
     "name": "stderr",
     "output_type": "stream",
     "text": [
      "/Users/omarmedhat/opt/anaconda3/lib/python3.9/site-packages/sklearn/metrics/_classification.py:1318: UndefinedMetricWarning: Precision is ill-defined and being set to 0.0 in labels with no predicted samples. Use `zero_division` parameter to control this behavior.\n",
      "  _warn_prf(average, modifier, msg_start, len(result))\n"
     ]
    }
   ],
   "source": [
    "#Naive Bayes Classifier ___________________________________________________________________________________________\n",
    "\n",
    "#we should use regression better because our target is float \n",
    "\n",
    "# define the features and target variables\n",
    "\n",
    "X = mydata[[ 'AvgTemperture' , 'AverageDew(point via humidity)'  , 'Wind' , 'Pressure' ]] \n",
    "y = mydata['Solar(PV)']\n",
    "y=y.astype('int')\n",
    "# split the data into training and testing sets\n",
    "X_train, X_test, y_train, y_test = train_test_split(X, y, test_size=0.3, random_state=1)\n",
    "\n",
    "# train the model\n",
    "model = GaussianNB()\n",
    "model.fit(X_train, y_train)\n",
    "\n",
    "# test the model\n",
    "y_pred = model.predict(X_test)\n",
    "accuracy = accuracy_score(y_test, y_pred)\n",
    "print(f\"Accuracy: {accuracy}\")\n",
    "ConfusionMatrixDisplay.from_predictions(y_test, y_pred)\n",
    "plt.show()\n",
    "print('Precision score: ', format(precision_score(y_test, y_pred , average='macro'))) # average = binary doesn't work\n",
    "print('Recall score: ', format(recall_score(y_test, y_pred , average='macro')))\n",
    "print('F1 score: ', format(f1_score(y_test, y_pred , average='macro')))"
   ]
  },
  {
   "cell_type": "code",
   "execution_count": 58,
   "id": "a7f1862b",
   "metadata": {},
   "outputs": [
    {
     "name": "stdout",
     "output_type": "stream",
     "text": [
      "0.010245848276775327\n",
      "[21.05968162 25.91066914 21.93369924 23.8539184  27.8662399  28.12038536\n",
      " 23.60851916 23.02649357 23.39786079 26.35208513 23.73370207 23.58841967\n",
      " 24.60008923 22.05555311 27.60476162 23.46137821 24.3122431  24.01898164\n",
      " 25.57413283 23.95673801 22.90911178 25.71770267 22.54460743 22.51314732\n",
      " 22.8463326  23.83216247 23.31637984 22.54460743 23.34411965 25.6691742\n",
      " 22.12530669 30.43979331 23.906359   21.98592034 22.46399824 25.4654977\n",
      " 20.00264125 21.29255874 24.74407072 28.60166161 26.39152916 24.04315454\n",
      " 25.9041094  24.87549427 24.73358221 22.30841899 29.31886227 22.76883295\n",
      " 25.34650237 22.99495172 23.37266226 20.98160404 25.3578957  23.79599714\n",
      " 22.48758922 24.48198267 24.76226667 25.61055501 23.78825199 22.35186174\n",
      " 26.31034032 24.7946878  22.69566493 26.22308847 21.82528413 28.3115951\n",
      " 24.73130791 24.11664348 26.77781909 22.28398929 29.97359254 25.71267041\n",
      " 24.17166036 26.0886838  24.57882759 24.1590647  25.43166652 21.75764743\n",
      " 22.47614918 27.24748016 21.80805853 21.42956762 24.25420975 22.24771799\n",
      " 22.81124815 19.50854737 24.64169337 23.83419488 25.66571897 24.36089968\n",
      " 23.39482754 24.04499295 27.0248314  22.33431676 25.69081973 24.01811819\n",
      " 25.22663437 25.51309124 27.37906343 25.3578957  23.01228363 22.95104279\n",
      " 24.01208394 22.35545487 25.8927001  23.01990525 23.00562189 21.90210674\n",
      " 28.39208967 23.97412186 25.3860691  24.82841761 23.83278483 25.92489764\n",
      " 25.45510872 22.6325484  23.1417497  24.97803818 23.91755853 19.54127208]\n"
     ]
    }
   ],
   "source": [
    "#Linear Regression ________________________________________________________________________________________________\n",
    "\n",
    "\n",
    "mydata = pd.read_csv('AswanData_weatherdata.csv')\n",
    "\n",
    "\n",
    "X = mydata[[ 'AvgTemperture' , 'AverageDew(point via humidity)'  , 'Wind' , 'Pressure' ]] \n",
    "y = mydata['Solar(PV)']\n",
    "\n",
    "# Split the data into training and testing sets\n",
    "X_train, X_test, y_train, y_test = train_test_split(X, y, test_size=0.3, random_state=43)\n",
    "\n",
    "# Create and fit the linear regression model\n",
    "model = LinearRegression()\n",
    "model.fit(X_train, y_train)\n",
    "\n",
    "# Predict on the testing set\n",
    "prediction = model.predict(X_test)\n",
    "\n",
    "# Evaluate the model\n",
    "score = model.score(X_test, y_test)\n",
    "print(score)\n",
    "print(prediction)\n"
   ]
  },
  {
   "cell_type": "code",
   "execution_count": 59,
   "id": "f9f21b88",
   "metadata": {},
   "outputs": [
    {
     "name": "stdout",
     "output_type": "stream",
     "text": [
      "Mean Absolute Error: 6.4156004259625465\n",
      "Mean Squared Error: 55.89496989740043\n",
      "Root Mean Squared Error: 7.4762938610919\n"
     ]
    }
   ],
   "source": [
    "#Analysis of linear regression \n",
    "\n",
    "regressor = LinearRegression()  \n",
    "regressor.fit(X_train, y_train) #training the algorithm\n",
    "#To do so, we will use our test data and see how accurately our algorithm predicts the percentage score\n",
    "y_pred = regressor.predict(X_test)\n",
    "print('Mean Absolute Error:', metrics.mean_absolute_error(y_test, y_pred))\n",
    "print('Mean Squared Error:', metrics.mean_squared_error(y_test, y_pred))  \n",
    "print('Root Mean Squared Error:', np.sqrt(metrics.mean_squared_error(y_test, y_pred)))"
   ]
  },
  {
   "cell_type": "code",
   "execution_count": null,
   "id": "78dcf66d",
   "metadata": {},
   "outputs": [],
   "source": []
  }
 ],
 "metadata": {
  "kernelspec": {
   "display_name": "Python 3 (ipykernel)",
   "language": "python",
   "name": "python3"
  },
  "language_info": {
   "codemirror_mode": {
    "name": "ipython",
    "version": 3
   },
   "file_extension": ".py",
   "mimetype": "text/x-python",
   "name": "python",
   "nbconvert_exporter": "python",
   "pygments_lexer": "ipython3",
   "version": "3.9.13"
  }
 },
 "nbformat": 4,
 "nbformat_minor": 5
}
